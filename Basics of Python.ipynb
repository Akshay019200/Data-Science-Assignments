{
 "cells": [
  {
   "cell_type": "code",
   "execution_count": 1,
   "id": "a70d106f",
   "metadata": {},
   "outputs": [],
   "source": [
    "# Exercise 1: Prime Numbers\n",
    "# Write a Python program that checks whether a given number is prime or not. \n",
    "# A prime number is a natural number greater than 1 that has no positive divisors other than 1 and itself."
   ]
  },
  {
   "cell_type": "code",
   "execution_count": 15,
   "id": "ea1e3371",
   "metadata": {},
   "outputs": [
    {
     "name": "stdout",
     "output_type": "stream",
     "text": [
      "Enter a number: 3\n",
      "3 is a prime number.\n"
     ]
    }
   ],
   "source": [
    "number = int(input(\"Enter a number: \"))\n",
    "\n",
    "if number <= 1:\n",
    "    print(number, \"is not a prime number.\")\n",
    "else:\n",
    "    is_prime = True\n",
    "    for i in range(2, int(number ** 0.5) + 1):\n",
    "        if number % i == 0:\n",
    "            is_prime = False\n",
    "            break\n",
    "    if is_prime:\n",
    "        print(number, \"is a prime number.\")\n",
    "    else:\n",
    "        print(number, \"is not a prime number.\")"
   ]
  },
  {
   "cell_type": "code",
   "execution_count": 16,
   "id": "8698a33e",
   "metadata": {},
   "outputs": [],
   "source": [
    "# Exercise 2: Product of Random Numbers\n",
    "# Develop a Python program that generates two random numbers and asks the user to enter the product of these numbers. \n",
    "# The program should then check if the user's answer is correct and display an appropriate message."
   ]
  },
  {
   "cell_type": "code",
   "execution_count": 17,
   "id": "a5ae081d",
   "metadata": {},
   "outputs": [
    {
     "name": "stdout",
     "output_type": "stream",
     "text": [
      "What is the product of 9 and 7? 63\n",
      "Correct! Well done.\n"
     ]
    }
   ],
   "source": [
    "import random\n",
    "\n",
    "# Generate two random numbers between 1 and 10\n",
    "num1 = random.randint(1, 10)\n",
    "num2 = random.randint(1, 10)\n",
    "\n",
    "# Calculate the correct product\n",
    "correct_product = num1 * num2\n",
    "\n",
    "# Ask the user to enter the product of the two numbers\n",
    "user_answer = int(input(f\"What is the product of {num1} and {num2}? \"))\n",
    "\n",
    "# Check if the user's answer is correct and display an appropriate message\n",
    "if user_answer == correct_product:\n",
    "    print(\"Correct! Well done.\")\n",
    "else:\n",
    "    print(\"Incorrect. The correct answer is:\", correct_product)\n"
   ]
  },
  {
   "cell_type": "code",
   "execution_count": 18,
   "id": "745a1c79",
   "metadata": {},
   "outputs": [],
   "source": [
    "# Exercise 3: Squares of Even/Odd Numbers\n",
    "# Create a Python script that prints the squares of all even or odd numbers within the range of 100 to 200. \n",
    "# Choose either even or odd numbers and document your choice in the code."
   ]
  },
  {
   "cell_type": "code",
   "execution_count": 19,
   "id": "b3b8984b",
   "metadata": {},
   "outputs": [
    {
     "name": "stdout",
     "output_type": "stream",
     "text": [
      "The square of 100 is 10000.\n",
      "The square of 102 is 10404.\n",
      "The square of 104 is 10816.\n",
      "The square of 106 is 11236.\n",
      "The square of 108 is 11664.\n",
      "The square of 110 is 12100.\n",
      "The square of 112 is 12544.\n",
      "The square of 114 is 12996.\n",
      "The square of 116 is 13456.\n",
      "The square of 118 is 13924.\n",
      "The square of 120 is 14400.\n",
      "The square of 122 is 14884.\n",
      "The square of 124 is 15376.\n",
      "The square of 126 is 15876.\n",
      "The square of 128 is 16384.\n",
      "The square of 130 is 16900.\n",
      "The square of 132 is 17424.\n",
      "The square of 134 is 17956.\n",
      "The square of 136 is 18496.\n",
      "The square of 138 is 19044.\n",
      "The square of 140 is 19600.\n",
      "The square of 142 is 20164.\n",
      "The square of 144 is 20736.\n",
      "The square of 146 is 21316.\n",
      "The square of 148 is 21904.\n",
      "The square of 150 is 22500.\n",
      "The square of 152 is 23104.\n",
      "The square of 154 is 23716.\n",
      "The square of 156 is 24336.\n",
      "The square of 158 is 24964.\n",
      "The square of 160 is 25600.\n",
      "The square of 162 is 26244.\n",
      "The square of 164 is 26896.\n",
      "The square of 166 is 27556.\n",
      "The square of 168 is 28224.\n",
      "The square of 170 is 28900.\n",
      "The square of 172 is 29584.\n",
      "The square of 174 is 30276.\n",
      "The square of 176 is 30976.\n",
      "The square of 178 is 31684.\n",
      "The square of 180 is 32400.\n",
      "The square of 182 is 33124.\n",
      "The square of 184 is 33856.\n",
      "The square of 186 is 34596.\n",
      "The square of 188 is 35344.\n",
      "The square of 190 is 36100.\n",
      "The square of 192 is 36864.\n",
      "The square of 194 is 37636.\n",
      "The square of 196 is 38416.\n",
      "The square of 198 is 39204.\n",
      "The square of 200 is 40000.\n"
     ]
    }
   ],
   "source": [
    "# We choose to print the squares of even numbers\n",
    "\n",
    "# Loop through the numbers from 100 to 200\n",
    "for num in range(100, 201):\n",
    "    # Check if the number is even\n",
    "    if num % 2 == 0:\n",
    "        # Calculate the square of the even number and print it\n",
    "        square = num ** 2\n",
    "        print(f\"The square of {num} is {square}.\")\n"
   ]
  },
  {
   "cell_type": "code",
   "execution_count": 20,
   "id": "c39c10d4",
   "metadata": {},
   "outputs": [],
   "source": [
    "# Exercise 4: Word counter\n",
    "# write a program to count the number of words in a given text.\n",
    "# example:\n",
    "# input_text = \"This is a sample text. This text will be used to demonstrate the word counter.\"\n",
    "# Expected output:\n",
    "# 'This': 2 \n",
    "# 'is': 1\n",
    "# 'a': 1\n",
    "# 'sample': 1\n",
    "# 'text.': 1"
   ]
  },
  {
   "cell_type": "code",
   "execution_count": 21,
   "id": "2e838de8",
   "metadata": {},
   "outputs": [
    {
     "name": "stdout",
     "output_type": "stream",
     "text": [
      "'This': 2\n",
      "'is': 1\n",
      "'a': 1\n",
      "'sample': 1\n",
      "'text.': 1\n",
      "'text': 1\n",
      "'will': 1\n",
      "'be': 1\n",
      "'used': 1\n",
      "'to': 1\n",
      "'demonstrate': 1\n",
      "'the': 1\n",
      "'word': 1\n",
      "'counter.': 1\n"
     ]
    }
   ],
   "source": [
    "input_text = \"This is a sample text. This text will be used to demonstrate the word counter.\"\n",
    "\n",
    "# Split the text into words\n",
    "words = input_text.split()\n",
    "\n",
    "# Create an empty dictionary to store word counts\n",
    "word_counts = {}\n",
    "\n",
    "# Count the occurrence of each word\n",
    "for word in words:\n",
    "    word_counts[word] = word_counts.get(word, 0) + 1\n",
    "\n",
    "# Print the word counts\n",
    "for word, count in word_counts.items():\n",
    "    print(f\"'{word}': {count}\")\n"
   ]
  },
  {
   "cell_type": "code",
   "execution_count": 22,
   "id": "abd283c6",
   "metadata": {},
   "outputs": [],
   "source": [
    "# Exercise 5: Check for Palindrome\n",
    "# Write a Python function called is_palindrome that takes a string as input and returns True if the string is a palindrome, \n",
    "# and False otherwise. A palindrome is a word, phrase, number, or other sequence of characters that reads \n",
    "# the same forward and backward, ignoring spaces, punctuation, and capitalization.\n",
    "# Example:\n",
    "# Input: \"racecar\"\n",
    "# Expected Output: True"
   ]
  },
  {
   "cell_type": "code",
   "execution_count": 23,
   "id": "5abe0d22",
   "metadata": {},
   "outputs": [
    {
     "name": "stdout",
     "output_type": "stream",
     "text": [
      "True\n"
     ]
    }
   ],
   "source": [
    "def is_palindrome(s):\n",
    "    # Convert the string to lowercase to ignore case sensitivity\n",
    "    s = s.lower()\n",
    "    # Remove spaces from the string\n",
    "    s = s.replace(\" \", \"\")\n",
    "    # Check if the modified string is equal to its reverse\n",
    "    return s == s[::-1]\n",
    "\n",
    "# Test the function\n",
    "input_string = \"racecar\"\n",
    "print(is_palindrome(input_string))  # Output: True"
   ]
  }
 ],
 "metadata": {
  "kernelspec": {
   "display_name": "Python 3 (ipykernel)",
   "language": "python",
   "name": "python3"
  },
  "language_info": {
   "codemirror_mode": {
    "name": "ipython",
    "version": 3
   },
   "file_extension": ".py",
   "mimetype": "text/x-python",
   "name": "python",
   "nbconvert_exporter": "python",
   "pygments_lexer": "ipython3",
   "version": "3.11.5"
  }
 },
 "nbformat": 4,
 "nbformat_minor": 5
}

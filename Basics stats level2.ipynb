{
 "cells": [
  {
   "cell_type": "code",
   "execution_count": 16,
   "id": "d5a4108f",
   "metadata": {},
   "outputs": [],
   "source": [
    "import pandas as pd\n",
    "import numpy as np\n",
    "import matplotlib.pyplot as plt \n",
    "import seaborn as sns\n",
    "from statistics import mode"
   ]
  },
  {
   "cell_type": "code",
   "execution_count": 2,
   "id": "f979bbd7",
   "metadata": {},
   "outputs": [],
   "source": [
    "measure= [24.23, 25.53, 25.41, 24.14, 29.62, 28.25, 25.81, 24.39, 40.26, 32.95, 91.36, 25.99, 39.42, 26.71, 35.00]"
   ]
  },
  {
   "cell_type": "code",
   "execution_count": 3,
   "id": "078b967d",
   "metadata": {},
   "outputs": [
    {
     "data": {
      "text/plain": [
       "<Axes: >"
      ]
     },
     "execution_count": 3,
     "metadata": {},
     "output_type": "execute_result"
    },
    {
     "data": {
      "image/png": "[encoded data removed]",
      "text/plain": [
       "<Figure size 640x480 with 1 Axes>"
      ]
     },
     "metadata": {},
     "output_type": "display_data"
    }
   ],
   "source": [
    "sns.boxplot(measure, )"
   ]
  },
  {
   "cell_type": "code",
   "execution_count": 4,
   "id": "1b43f82b",
   "metadata": {},
   "outputs": [
    {
     "name": "stdout",
     "output_type": "stream",
     "text": [
      "Mean: 33.27133333333333\n",
      "Standard deviation: 16.370812590976932\n",
      "Variance: 268.00350488888887\n"
     ]
    }
   ],
   "source": [
    "print(\"Mean:\",np.mean(measure))\n",
    "print(\"Standard deviation:\",np.std(measure))\n",
    "print(\"Variance:\",np.var(measure))\n"
   ]
  },
  {
   "cell_type": "code",
   "execution_count": 5,
   "id": "9f2b7ba6",
   "metadata": {},
   "outputs": [
    {
     "data": {
      "text/plain": [
       "0.02450373751562501"
      ]
     },
     "execution_count": 5,
     "metadata": {},
     "output_type": "execute_result"
    }
   ],
   "source": [
    "from scipy.stats import binom\n",
    "\n",
    "bi= binom(5,0.005)\n",
    "\n",
    "x1= bi.pmf(1)\n",
    "x1"
   ]
  },
  {
   "cell_type": "code",
   "execution_count": 9,
   "id": "1d73ea98",
   "metadata": {},
   "outputs": [
    {
     "name": "stdout",
     "output_type": "stream",
     "text": [
      "Mean: 9.86\n"
     ]
    }
   ],
   "source": [
    "x=[2.5,9,22,22,15,10,8,9,4,5,2]\n",
    "\n",
    "print(\"Mean:\",np.mean(x).round(2))\n"
   ]
  },
  {
   "cell_type": "code",
   "execution_count": 15,
   "id": "bb2dd19e",
   "metadata": {},
   "outputs": [
    {
     "name": "stdout",
     "output_type": "stream",
     "text": [
      "Mode: 9\n"
     ]
    }
   ],
   "source": [
    "print(\"Mode:\",mode(x))"
   ]
  },
  {
   "cell_type": "code",
   "execution_count": 16,
   "id": "72dcd8c0",
   "metadata": {},
   "outputs": [
    {
     "data": {
      "text/plain": [
       "0.625"
      ]
     },
     "execution_count": 16,
     "metadata": {},
     "output_type": "execute_result"
    }
   ],
   "source": [
    "from scipy.stats import norm\n",
    "from scipy import stats\n",
    "\n",
    "z= (60-10-45)/8\n",
    "z"
   ]
  },
  {
   "cell_type": "markdown",
   "id": "94cbde2d",
   "metadata": {},
   "source": [
    "x=1- stats.norm.cdf(z)\n",
    "x"
   ]
  },
  {
   "cell_type": "code",
   "execution_count": 21,
   "id": "a381f23c",
   "metadata": {},
   "outputs": [
    {
     "data": {
      "text/plain": [
       "0.15865525393145707"
      ]
     },
     "execution_count": 21,
     "metadata": {},
     "output_type": "execute_result"
    }
   ],
   "source": [
    "#Older than 44\n",
    "\n",
    "nd= norm(38,6)\n",
    "\n",
    "x1= 1-nd.cdf(44)\n",
    "x1"
   ]
  },
  {
   "cell_type": "code",
   "execution_count": 30,
   "id": "ccfb6bf0",
   "metadata": {},
   "outputs": [
    {
     "data": {
      "text/plain": [
       "0.3413447460685429"
      ]
     },
     "execution_count": 30,
     "metadata": {},
     "output_type": "execute_result"
    }
   ],
   "source": [
    "# between 38 and 44.\n",
    "\n",
    "x2=nd.cdf(38)\n",
    "x3= nd.cdf(44)\n",
    "x3-x2"
   ]
  },
  {
   "cell_type": "code",
   "execution_count": 34,
   "id": "e8488408",
   "metadata": {},
   "outputs": [
    {
     "data": {
      "text/plain": [
       "0.09121121972586788"
      ]
     },
     "execution_count": 34,
     "metadata": {},
     "output_type": "execute_result"
    }
   ],
   "source": [
    "#Under the age of 30\n",
    "\n",
    "x= nd.cdf(30)\n",
    "x"
   ]
  },
  {
   "cell_type": "code",
   "execution_count": 35,
   "id": "223adfe2",
   "metadata": {},
   "outputs": [
    {
     "data": {
      "text/plain": [
       "36.484487890347154"
      ]
     },
     "execution_count": 35,
     "metadata": {},
     "output_type": "execute_result"
    }
   ],
   "source": [
    "y=400*x\n",
    "y"
   ]
  },
  {
   "cell_type": "code",
   "execution_count": 1,
   "id": "597cf60e",
   "metadata": {},
   "outputs": [
    {
     "name": "stdout",
     "output_type": "stream",
     "text": [
      "Expected Value (Long-term Average Earnings): $ 800.0\n"
     ]
    }
   ],
   "source": [
    "import numpy as np\n",
    "\n",
    "returns = np.array([-2000, -1000, 0, 1000, 2000, 3000])\n",
    "probabilities = np.array([0.1, 0.1, 0.2, 0.2, 0.3, 0.1])\n",
    "\n",
    "expected_value = np.sum(returns * probabilities)\n",
    "\n",
    "print(\"Expected Value (Long-term Average Earnings): $\", expected_value)\n"
   ]
  },
  {
   "cell_type": "code",
   "execution_count": 3,
   "id": "bebcb5fc",
   "metadata": {},
   "outputs": [
    {
     "name": "stdout",
     "output_type": "stream",
     "text": [
      "Standard Deviation (Risk): $ 1469.6938456699068\n"
     ]
    }
   ],
   "source": [
    "variance = np.sum(probabilities * (returns - expected_value) ** 2)\n",
    "standard_deviation = np.sqrt(variance)\n",
    "\n",
    "print(\"Standard Deviation (Risk): $\", standard_deviation)\n"
   ]
  },
  {
   "cell_type": "code",
   "execution_count": 1,
   "id": "dfb20d53",
   "metadata": {},
   "outputs": [
    {
     "data": {
      "text/plain": [
       "(99.00810347848784, 980.9918965215122)"
      ]
     },
     "execution_count": 1,
     "metadata": {},
     "output_type": "execute_result"
    }
   ],
   "source": [
    "from scipy import stats\n",
    "\n",
    "df_ci= stats.norm.interval(0.95, loc= 540, scale=225)\n",
    "df_ci "
   ]
  },
  {
   "cell_type": "code",
   "execution_count": 3,
   "id": "78f3fc02",
   "metadata": {},
   "outputs": [
    {
     "data": {
      "text/plain": [
       "169.875"
      ]
     },
     "execution_count": 3,
     "metadata": {},
     "output_type": "execute_result"
    }
   ],
   "source": [
    "z= -1.645\n",
    "sd= 225\n",
    "mean= 540\n",
    "\n",
    "x= (z*sd)+mean\n",
    "x"
   ]
  },
  {
   "cell_type": "code",
   "execution_count": 5,
   "id": "fe90bca7",
   "metadata": {},
   "outputs": [
    {
     "data": {
      "text/plain": [
       "0.0477903522728147"
      ]
     },
     "execution_count": 5,
     "metadata": {},
     "output_type": "execute_result"
    }
   ],
   "source": [
    "from scipy.stats import norm\n",
    "\n",
    "nd= norm(5,3)\n",
    "x1= nd.cdf(0)\n",
    "x1"
   ]
  },
  {
   "cell_type": "code",
   "execution_count": 6,
   "id": "12bae2cb",
   "metadata": {},
   "outputs": [
    {
     "data": {
      "text/plain": [
       "0.040059156863817086"
      ]
     },
     "execution_count": 6,
     "metadata": {},
     "output_type": "execute_result"
    }
   ],
   "source": [
    "nd= norm(7,4)\n",
    "x1= nd.cdf(0)\n",
    "x1"
   ]
  },
  {
   "cell_type": "code",
   "execution_count": 11,
   "id": "442ee6e5",
   "metadata": {},
   "outputs": [
    {
     "name": "stdout",
     "output_type": "stream",
     "text": [
      "Z-statistic: nan\n",
      "P-value: nan\n",
      "Fail to reject the null hypothesis. There is not enough evidence to conclude that the true market share is less than 5%.\n"
     ]
    }
   ],
   "source": [
    "from scipy import stats\n",
    "from statsmodels.stats import weightstats as ztests\n",
    "\n",
    "# Given data\n",
    "reported_market_share = 4.6  # in percentage\n",
    "sample_size = 2000\n",
    "hypothesized_market_share = 5  # in percentage\n",
    "\n",
    "# Convert percentages to proportions\n",
    "reported_market_share /= 100\n",
    "hypothesized_market_share /= 100\n",
    "\n",
    "# One-sample z-test\n",
    "z_stat, p_value = ztests.ztest([reported_market_share], value=hypothesized_market_share, alternative='smaller', ddof=1)\n",
    "\n",
    "# Output the results\n",
    "print(f\"Z-statistic: {z_stat}\")\n",
    "print(f\"P-value: {p_value}\")\n",
    "\n",
    "# Check for statistical significance at a 0.05 significance level\n",
    "alpha = 0.05\n",
    "if p_value < alpha:\n",
    "    print(\"Reject the null hypothesis. There is evidence that the true market share is less than 5%.\")\n",
    "else:\n",
    "    print(\"Fail to reject the null hypothesis. There is not enough evidence to conclude that the true market share is less than 5%.\")\n"
   ]
  },
  {
   "cell_type": "code",
   "execution_count": 45,
   "id": "0345f6c6",
   "metadata": {},
   "outputs": [
    {
     "data": {
      "text/plain": [
       "-1.25"
      ]
     },
     "execution_count": 45,
     "metadata": {},
     "output_type": "execute_result"
    }
   ],
   "source": [
    "from scipy.stats import norm\n",
    "from scipy import stats\n",
    "mean= 50\n",
    "n= 100\n",
    "sd= 40\n",
    "\n",
    "# z_value for x=45\n",
    "z_value= (45-50)/(40/np.sqrt(n))\n",
    "z_value"
   ]
  },
  {
   "cell_type": "code",
   "execution_count": 46,
   "id": "2541a08c",
   "metadata": {},
   "outputs": [
    {
     "data": {
      "text/plain": [
       "1.25"
      ]
     },
     "execution_count": 46,
     "metadata": {},
     "output_type": "execute_result"
    }
   ],
   "source": [
    "# z_value for x=55\n",
    "\n",
    "z_value= (55-50)/(40/np.sqrt(n))\n",
    "z_value"
   ]
  },
  {
   "cell_type": "code",
   "execution_count": 48,
   "id": "ec1a05e9",
   "metadata": {},
   "outputs": [
    {
     "data": {
      "text/plain": [
       "0.7887004526662893"
      ]
     },
     "execution_count": 48,
     "metadata": {},
     "output_type": "execute_result"
    }
   ],
   "source": [
    "stats.norm.cdf(1.25)-stats.norm.cdf(-1.25)"
   ]
  },
  {
   "cell_type": "code",
   "execution_count": 49,
   "id": "279b67e3",
   "metadata": {},
   "outputs": [
    {
     "data": {
      "text/plain": [
       "0.21130000000000004"
      ]
     },
     "execution_count": 49,
     "metadata": {},
     "output_type": "execute_result"
    }
   ],
   "source": [
    "# For Investigation 1-P(45<X<55)\n",
    "\n",
    "1- 0.7887"
   ]
  },
  {
   "cell_type": "code",
   "execution_count": 51,
   "id": "2494ca83",
   "metadata": {},
   "outputs": [
    {
     "data": {
      "text/plain": [
       "-1.97"
      ]
     },
     "execution_count": 51,
     "metadata": {},
     "output_type": "execute_result"
    }
   ],
   "source": [
    "t = np.round(stats.t.ppf(0.025, df = 249),2)\n",
    "t"
   ]
  },
  {
   "cell_type": "code",
   "execution_count": 1,
   "id": "b886f4f4",
   "metadata": {},
   "outputs": [
    {
     "data": {
      "text/plain": [
       "1572.3301886761008"
      ]
     },
     "execution_count": 1,
     "metadata": {},
     "output_type": "execute_result"
    }
   ],
   "source": [
    "import numpy as np\n",
    "\n",
    "x=[-2000,1000,0,1000,2000,3000]\n",
    "np.std(x)"
   ]
  },
  {
   "cell_type": "code",
   "execution_count": 2,
   "id": "016c2eac",
   "metadata": {},
   "outputs": [
    {
     "data": {
      "text/plain": [
       "2472222.2222222225"
      ]
     },
     "execution_count": 2,
     "metadata": {},
     "output_type": "execute_result"
    }
   ],
   "source": [
    "np.var(x)"
   ]
  },
  {
   "cell_type": "code",
   "execution_count": null,
   "id": "2e01bc18",
   "metadata": {},
   "outputs": [],
   "source": []
  }
 ],
 "metadata": {
  "kernelspec": {
   "display_name": "Python 3 (ipykernel)",
   "language": "python",
   "name": "python3"
  },
  "language_info": {
   "codemirror_mode": {
    "name": "ipython",
    "version": 3
   },
   "file_extension": ".py",
   "mimetype": "text/x-python",
   "name": "python",
   "nbconvert_exporter": "python",
   "pygments_lexer": "ipython3",
   "version": "3.11.5"
  }
 },
 "nbformat": 4,
 "nbformat_minor": 5
}
